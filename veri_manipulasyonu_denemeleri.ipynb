{
 "cells": [
  {
   "cell_type": "code",
   "execution_count": 1,
   "id": "81b41275-479b-465b-8845-3221e33b697d",
   "metadata": {},
   "outputs": [],
   "source": [
    "import numpy as np"
   ]
  },
  {
   "cell_type": "code",
   "execution_count": 3,
   "id": "e3d6c987-eb5a-4308-93ac-4c9b853d6ac9",
   "metadata": {},
   "outputs": [
    {
     "data": {
      "text/plain": [
       "array([1, 2, 3, 4, 5])"
      ]
     },
     "execution_count": 3,
     "metadata": {},
     "output_type": "execute_result"
    }
   ],
   "source": [
    "np.array([1,2,3,4,5])"
   ]
  },
  {
   "cell_type": "code",
   "execution_count": 5,
   "id": "13b00018-f989-4be0-ab05-b97cef0c2058",
   "metadata": {},
   "outputs": [],
   "source": [
    "a = np.array([1,2,3,4,5])"
   ]
  },
  {
   "cell_type": "code",
   "execution_count": 6,
   "id": "24d43d65-fdb8-4546-818a-73845635fd78",
   "metadata": {},
   "outputs": [
    {
     "data": {
      "text/plain": [
       "numpy.ndarray"
      ]
     },
     "execution_count": 6,
     "metadata": {},
     "output_type": "execute_result"
    }
   ],
   "source": [
    "type(a)"
   ]
  },
  {
   "cell_type": "code",
   "execution_count": 7,
   "id": "ab724ee6-0dc5-4533-a409-7aa15e374c8f",
   "metadata": {},
   "outputs": [
    {
     "data": {
      "text/plain": [
       "array([ 3,  4,  2, 13])"
      ]
     },
     "execution_count": 7,
     "metadata": {},
     "output_type": "execute_result"
    }
   ],
   "source": [
    "np.array([3.14, 4, 2, 13], dtype = \"int\")"
   ]
  },
  {
   "cell_type": "code",
   "execution_count": 11,
   "id": "36720dfd-f5fc-4f6c-b5f6-f174432bd839",
   "metadata": {},
   "outputs": [
    {
     "data": {
      "text/plain": [
       "array([0, 0, 0, 0, 0, 0, 0, 0, 0, 0])"
      ]
     },
     "execution_count": 11,
     "metadata": {},
     "output_type": "execute_result"
    }
   ],
   "source": [
    "np.zeros(10, dtype =int)"
   ]
  },
  {
   "cell_type": "raw",
   "id": "1e4c790e-1548-4e3f-bba1-a123794a4022",
   "metadata": {},
   "source": []
  },
  {
   "cell_type": "code",
   "execution_count": 12,
   "id": "ed1d3e21-9101-4f27-afe1-c9effc4fab15",
   "metadata": {},
   "outputs": [
    {
     "data": {
      "text/plain": [
       "array([[1, 1, 1, 1, 1],\n",
       "       [1, 1, 1, 1, 1],\n",
       "       [1, 1, 1, 1, 1]])"
      ]
     },
     "execution_count": 12,
     "metadata": {},
     "output_type": "execute_result"
    }
   ],
   "source": [
    "np.ones((3,5), dtype = int)"
   ]
  },
  {
   "cell_type": "code",
   "execution_count": 13,
   "id": "81b97fe8-4d35-4ea3-bf5a-0d5ab1f6f42b",
   "metadata": {},
   "outputs": [
    {
     "data": {
      "text/plain": [
       "array([[3, 3, 3, 3, 3],\n",
       "       [3, 3, 3, 3, 3],\n",
       "       [3, 3, 3, 3, 3]])"
      ]
     },
     "execution_count": 13,
     "metadata": {},
     "output_type": "execute_result"
    }
   ],
   "source": [
    "np.full((3,5),3)"
   ]
  },
  {
   "cell_type": "code",
   "execution_count": 15,
   "id": "cbf79034-a21d-4d65-bf6e-27a4b7791ab2",
   "metadata": {},
   "outputs": [
    {
     "data": {
      "text/plain": [
       "array([ 0,  3,  6,  9, 12, 15, 18, 21, 24, 27, 30])"
      ]
     },
     "execution_count": 15,
     "metadata": {},
     "output_type": "execute_result"
    }
   ],
   "source": [
    "np.arange(0,31,3)"
   ]
  },
  {
   "cell_type": "code",
   "execution_count": 16,
   "id": "3e8f9c20-d838-4858-9260-5d33353d9247",
   "metadata": {},
   "outputs": [
    {
     "data": {
      "text/plain": [
       "array([0.        , 0.11111111, 0.22222222, 0.33333333, 0.44444444,\n",
       "       0.55555556, 0.66666667, 0.77777778, 0.88888889, 1.        ])"
      ]
     },
     "execution_count": 16,
     "metadata": {},
     "output_type": "execute_result"
    }
   ],
   "source": [
    "np.linspace(0,1,10)"
   ]
  },
  {
   "cell_type": "code",
   "execution_count": 17,
   "id": "0c302119-2893-4703-91d7-45acf6f106a5",
   "metadata": {},
   "outputs": [
    {
     "data": {
      "text/plain": [
       "array([[ 7.84331199,  8.05957008,  9.63963938, 17.23778928],\n",
       "       [11.44408477,  5.06439266,  6.65185183, 10.26666819],\n",
       "       [14.42905931, 15.54120963, 12.4753702 ,  8.45859949]])"
      ]
     },
     "execution_count": 17,
     "metadata": {},
     "output_type": "execute_result"
    }
   ],
   "source": [
    "np.random.normal(10,4, (3,4))"
   ]
  },
  {
   "cell_type": "code",
   "execution_count": 18,
   "id": "a6dd8868-daa6-42ba-929e-917c454d335f",
   "metadata": {},
   "outputs": [
    {
     "data": {
      "text/plain": [
       "array([[9, 8, 6],\n",
       "       [0, 4, 6],\n",
       "       [1, 6, 7]])"
      ]
     },
     "execution_count": 18,
     "metadata": {},
     "output_type": "execute_result"
    }
   ],
   "source": [
    "np.random.randint(0,10, (3,3))"
   ]
  },
  {
   "cell_type": "code",
   "execution_count": 21,
   "id": "17370f57-b89b-48db-bdf5-30e06c68f705",
   "metadata": {},
   "outputs": [],
   "source": [
    "a = np.random.randint(10, size = 10)"
   ]
  },
  {
   "cell_type": "code",
   "execution_count": 22,
   "id": "3f7bc485-f294-4d04-bafa-6797259f4e04",
   "metadata": {},
   "outputs": [
    {
     "data": {
      "text/plain": [
       "1"
      ]
     },
     "execution_count": 22,
     "metadata": {},
     "output_type": "execute_result"
    }
   ],
   "source": [
    "a.ndim"
   ]
  },
  {
   "cell_type": "code",
   "execution_count": 24,
   "id": "c3b155e1-a228-4cb3-afed-82665b002d91",
   "metadata": {},
   "outputs": [
    {
     "data": {
      "text/plain": [
       "(10,)"
      ]
     },
     "execution_count": 24,
     "metadata": {},
     "output_type": "execute_result"
    }
   ],
   "source": [
    "a.shape"
   ]
  },
  {
   "cell_type": "code",
   "execution_count": 25,
   "id": "1ed57925-eb5f-4273-872f-30b5b6abb867",
   "metadata": {},
   "outputs": [
    {
     "data": {
      "text/plain": [
       "10"
      ]
     },
     "execution_count": 25,
     "metadata": {},
     "output_type": "execute_result"
    }
   ],
   "source": [
    "a.size"
   ]
  },
  {
   "cell_type": "code",
   "execution_count": 26,
   "id": "13d1d8a0-6a5a-40a9-8bde-dcbf820aa57c",
   "metadata": {},
   "outputs": [
    {
     "data": {
      "text/plain": [
       "dtype('int32')"
      ]
     },
     "execution_count": 26,
     "metadata": {},
     "output_type": "execute_result"
    }
   ],
   "source": [
    "a.dtype"
   ]
  },
  {
   "cell_type": "code",
   "execution_count": 27,
   "id": "a7a694c8-b0dc-46a0-a6c6-814190aaae88",
   "metadata": {},
   "outputs": [],
   "source": [
    "b = np.random.randint(10, size = (3,5))"
   ]
  },
  {
   "cell_type": "code",
   "execution_count": 28,
   "id": "31d9ce43-d342-41dc-b6d2-ee9c897f50fe",
   "metadata": {},
   "outputs": [
    {
     "data": {
      "text/plain": [
       "array([[2, 2, 2, 4, 2],\n",
       "       [2, 0, 2, 7, 3],\n",
       "       [3, 2, 9, 9, 8]])"
      ]
     },
     "execution_count": 28,
     "metadata": {},
     "output_type": "execute_result"
    }
   ],
   "source": [
    "b"
   ]
  },
  {
   "cell_type": "code",
   "execution_count": 29,
   "id": "72042f3e-8bae-498d-b997-7aa1a6f86334",
   "metadata": {},
   "outputs": [
    {
     "data": {
      "text/plain": [
       "2"
      ]
     },
     "execution_count": 29,
     "metadata": {},
     "output_type": "execute_result"
    }
   ],
   "source": [
    "b.ndim"
   ]
  },
  {
   "cell_type": "code",
   "execution_count": 30,
   "id": "a8e01dd0-cc0a-48fb-a3fb-0fb2e4955e74",
   "metadata": {},
   "outputs": [
    {
     "data": {
      "text/plain": [
       "(3, 5)"
      ]
     },
     "execution_count": 30,
     "metadata": {},
     "output_type": "execute_result"
    }
   ],
   "source": [
    "b.shape"
   ]
  },
  {
   "cell_type": "code",
   "execution_count": 32,
   "id": "24d53ad2-3604-427f-898b-ff3abfdfbffa",
   "metadata": {},
   "outputs": [
    {
     "data": {
      "text/plain": [
       "array([1, 2, 3, 4, 5, 6, 7, 8, 9])"
      ]
     },
     "execution_count": 32,
     "metadata": {},
     "output_type": "execute_result"
    }
   ],
   "source": [
    "np.arange(1,10)"
   ]
  },
  {
   "cell_type": "code",
   "execution_count": 33,
   "id": "91e1d437-a0fa-4ce3-ba9f-080c9652b970",
   "metadata": {},
   "outputs": [
    {
     "data": {
      "text/plain": [
       "array([[1, 2, 3],\n",
       "       [4, 5, 6],\n",
       "       [7, 8, 9]])"
      ]
     },
     "execution_count": 33,
     "metadata": {},
     "output_type": "execute_result"
    }
   ],
   "source": [
    "np.arange(1,10).reshape((3,3))"
   ]
  },
  {
   "cell_type": "code",
   "execution_count": 34,
   "id": "e718210c-1fa2-422f-adee-0b89b7d574a7",
   "metadata": {},
   "outputs": [],
   "source": [
    "a = np.arange(1,10)"
   ]
  },
  {
   "cell_type": "code",
   "execution_count": 35,
   "id": "2fff71b4-a256-4734-b9d5-7d2b91cbe55b",
   "metadata": {},
   "outputs": [
    {
     "data": {
      "text/plain": [
       "1"
      ]
     },
     "execution_count": 35,
     "metadata": {},
     "output_type": "execute_result"
    }
   ],
   "source": [
    "a.ndim"
   ]
  },
  {
   "cell_type": "code",
   "execution_count": 37,
   "id": "97042f58-120f-44e7-89ed-296fb069bb23",
   "metadata": {},
   "outputs": [],
   "source": [
    "b = a.reshape((1,9))"
   ]
  },
  {
   "cell_type": "code",
   "execution_count": 38,
   "id": "9ddcf48f-80ed-493c-9bbe-1286d4088200",
   "metadata": {},
   "outputs": [
    {
     "data": {
      "text/plain": [
       "2"
      ]
     },
     "execution_count": 38,
     "metadata": {},
     "output_type": "execute_result"
    }
   ],
   "source": [
    "b.ndim"
   ]
  },
  {
   "cell_type": "code",
   "execution_count": 39,
   "id": "34a0d511-951a-496c-904e-5edd6499419e",
   "metadata": {},
   "outputs": [],
   "source": [
    "x = np.array([1,2,3])\n",
    "y = np.array([4,5,6])"
   ]
  },
  {
   "cell_type": "code",
   "execution_count": 41,
   "id": "a0b8e699-8547-4c84-b75a-a72441bd687c",
   "metadata": {},
   "outputs": [
    {
     "data": {
      "text/plain": [
       "array([1, 2, 3, 4, 5, 6])"
      ]
     },
     "execution_count": 41,
     "metadata": {},
     "output_type": "execute_result"
    }
   ],
   "source": [
    "np.concatenate([x,y])"
   ]
  },
  {
   "cell_type": "code",
   "execution_count": 42,
   "id": "246e270c-b17e-4ce2-acaa-813e5dbf6d43",
   "metadata": {},
   "outputs": [],
   "source": [
    "z = np.array([7,8,9])"
   ]
  },
  {
   "cell_type": "code",
   "execution_count": 43,
   "id": "ed22d80d-f54a-4c59-9a1f-29b28afed85d",
   "metadata": {},
   "outputs": [
    {
     "data": {
      "text/plain": [
       "array([1, 2, 3, 4, 5, 6, 7, 8, 9])"
      ]
     },
     "execution_count": 43,
     "metadata": {},
     "output_type": "execute_result"
    }
   ],
   "source": [
    "np.concatenate([x,y,z])"
   ]
  },
  {
   "cell_type": "code",
   "execution_count": 44,
   "id": "0d07ecde-5e35-4312-8c7c-fe7e2e4ffea1",
   "metadata": {},
   "outputs": [],
   "source": [
    "a = np.array([[1,2,3], [4,5,6]])"
   ]
  },
  {
   "cell_type": "code",
   "execution_count": 45,
   "id": "c81a9547-f4bc-4dcd-86c6-786167b685fa",
   "metadata": {},
   "outputs": [
    {
     "data": {
      "text/plain": [
       "array([[1, 2, 3],\n",
       "       [4, 5, 6],\n",
       "       [1, 2, 3],\n",
       "       [4, 5, 6]])"
      ]
     },
     "execution_count": 45,
     "metadata": {},
     "output_type": "execute_result"
    }
   ],
   "source": [
    "np.concatenate([a,a])"
   ]
  },
  {
   "cell_type": "code",
   "execution_count": 46,
   "id": "7b07f2d3-42d7-49fb-8eb3-1497ee7ffd6e",
   "metadata": {},
   "outputs": [
    {
     "data": {
      "text/plain": [
       "array([[1, 2, 3, 1, 2, 3],\n",
       "       [4, 5, 6, 4, 5, 6]])"
      ]
     },
     "execution_count": 46,
     "metadata": {},
     "output_type": "execute_result"
    }
   ],
   "source": [
    "np.concatenate([a,a], axis =1)"
   ]
  },
  {
   "cell_type": "code",
   "execution_count": 47,
   "id": "4cd44b24-a339-4239-a73e-2b66d84e3e67",
   "metadata": {},
   "outputs": [],
   "source": [
    "x = np.array([1,2,3,99,99,3,2,1])"
   ]
  },
  {
   "cell_type": "code",
   "execution_count": 48,
   "id": "a92be3ae-64ac-475a-8da9-69b88e0352b1",
   "metadata": {},
   "outputs": [
    {
     "data": {
      "text/plain": [
       "[array([1, 2, 3]), array([99, 99]), array([3, 2, 1])]"
      ]
     },
     "execution_count": 48,
     "metadata": {},
     "output_type": "execute_result"
    }
   ],
   "source": [
    "np.split(x, [3,5])"
   ]
  },
  {
   "cell_type": "code",
   "execution_count": 49,
   "id": "72b061b6-faba-41f4-af2c-a4ba4186a0c5",
   "metadata": {},
   "outputs": [],
   "source": [
    "a,b,c = np.split(x, [3,5])"
   ]
  },
  {
   "cell_type": "code",
   "execution_count": 50,
   "id": "3c4d5927-9b9e-4520-8bf2-9077ea441bd5",
   "metadata": {},
   "outputs": [
    {
     "data": {
      "text/plain": [
       "array([1, 2, 3])"
      ]
     },
     "execution_count": 50,
     "metadata": {},
     "output_type": "execute_result"
    }
   ],
   "source": [
    "a"
   ]
  },
  {
   "cell_type": "code",
   "execution_count": 51,
   "id": "5caa055b-068a-4ee7-943d-190a2a52fd3c",
   "metadata": {},
   "outputs": [
    {
     "data": {
      "text/plain": [
       "array([99, 99])"
      ]
     },
     "execution_count": 51,
     "metadata": {},
     "output_type": "execute_result"
    }
   ],
   "source": [
    "b"
   ]
  },
  {
   "cell_type": "code",
   "execution_count": 52,
   "id": "925e39f5-9d61-4803-ab37-2ef9c192ae6d",
   "metadata": {},
   "outputs": [
    {
     "data": {
      "text/plain": [
       "array([3, 2, 1])"
      ]
     },
     "execution_count": 52,
     "metadata": {},
     "output_type": "execute_result"
    }
   ],
   "source": [
    "c"
   ]
  },
  {
   "cell_type": "code",
   "execution_count": 1,
   "id": "59094b94-b707-4ea8-b763-6ce84c5bf9c0",
   "metadata": {},
   "outputs": [],
   "source": [
    "#iki boyutlu ayırma"
   ]
  },
  {
   "cell_type": "code",
   "execution_count": 54,
   "id": "bd1eb47e-adbf-48dc-a203-39a304a6a1b7",
   "metadata": {},
   "outputs": [],
   "source": [
    "m = np.arange(16).reshape(4,4)"
   ]
  },
  {
   "cell_type": "code",
   "execution_count": 55,
   "id": "b93e8129-f50b-4b81-afe2-b92b954c884b",
   "metadata": {},
   "outputs": [
    {
     "data": {
      "text/plain": [
       "array([[ 0,  1,  2,  3],\n",
       "       [ 4,  5,  6,  7],\n",
       "       [ 8,  9, 10, 11],\n",
       "       [12, 13, 14, 15]])"
      ]
     },
     "execution_count": 55,
     "metadata": {},
     "output_type": "execute_result"
    }
   ],
   "source": [
    "m"
   ]
  },
  {
   "cell_type": "code",
   "execution_count": 59,
   "id": "626975d0-ffa7-4626-8844-0338f5d62cfb",
   "metadata": {},
   "outputs": [
    {
     "data": {
      "text/plain": [
       "[array([[0, 1, 2, 3],\n",
       "        [4, 5, 6, 7]]),\n",
       " array([[ 8,  9, 10, 11],\n",
       "        [12, 13, 14, 15]])]"
      ]
     },
     "execution_count": 59,
     "metadata": {},
     "output_type": "execute_result"
    }
   ],
   "source": [
    "np.vsplit(m, [2])"
   ]
  },
  {
   "cell_type": "code",
   "execution_count": 60,
   "id": "ed7e1a80-ae56-4290-b3b9-ef6ad31b23e2",
   "metadata": {},
   "outputs": [],
   "source": [
    "ust, alt = np.vsplit(m, [2])"
   ]
  },
  {
   "cell_type": "code",
   "execution_count": 61,
   "id": "841793e2-5d6d-4bb9-9363-781bb917931b",
   "metadata": {},
   "outputs": [
    {
     "data": {
      "text/plain": [
       "array([[0, 1, 2, 3],\n",
       "       [4, 5, 6, 7]])"
      ]
     },
     "execution_count": 61,
     "metadata": {},
     "output_type": "execute_result"
    }
   ],
   "source": [
    "ust"
   ]
  },
  {
   "cell_type": "code",
   "execution_count": 62,
   "id": "b67af74b-38be-4c6e-ba39-7724e6ecd1b7",
   "metadata": {},
   "outputs": [
    {
     "data": {
      "text/plain": [
       "array([[ 8,  9, 10, 11],\n",
       "       [12, 13, 14, 15]])"
      ]
     },
     "execution_count": 62,
     "metadata": {},
     "output_type": "execute_result"
    }
   ],
   "source": [
    "alt"
   ]
  },
  {
   "cell_type": "code",
   "execution_count": 63,
   "id": "1d406c95-dbfe-4842-bae0-da8859cd85ef",
   "metadata": {},
   "outputs": [
    {
     "data": {
      "text/plain": [
       "array([[ 0,  1,  2,  3],\n",
       "       [ 4,  5,  6,  7],\n",
       "       [ 8,  9, 10, 11],\n",
       "       [12, 13, 14, 15]])"
      ]
     },
     "execution_count": 63,
     "metadata": {},
     "output_type": "execute_result"
    }
   ],
   "source": [
    "m"
   ]
  },
  {
   "cell_type": "code",
   "execution_count": 65,
   "id": "f39f013d-7c49-4ff4-bf4a-dfe206f45b2d",
   "metadata": {},
   "outputs": [],
   "source": [
    "sag , sol = np.hsplit(m, [2])"
   ]
  },
  {
   "cell_type": "code",
   "execution_count": 66,
   "id": "4fdccbea-e618-4723-81b9-43034248fdbc",
   "metadata": {},
   "outputs": [
    {
     "data": {
      "text/plain": [
       "array([[ 0,  1],\n",
       "       [ 4,  5],\n",
       "       [ 8,  9],\n",
       "       [12, 13]])"
      ]
     },
     "execution_count": 66,
     "metadata": {},
     "output_type": "execute_result"
    }
   ],
   "source": [
    "sag"
   ]
  },
  {
   "cell_type": "code",
   "execution_count": 67,
   "id": "36a19bc4-037c-4a84-a67a-582db7b768d7",
   "metadata": {},
   "outputs": [
    {
     "data": {
      "text/plain": [
       "array([[ 2,  3],\n",
       "       [ 6,  7],\n",
       "       [10, 11],\n",
       "       [14, 15]])"
      ]
     },
     "execution_count": 67,
     "metadata": {},
     "output_type": "execute_result"
    }
   ],
   "source": [
    "sol"
   ]
  },
  {
   "cell_type": "code",
   "execution_count": 69,
   "id": "0f574067-25f7-42d7-ae09-4ff13d1b07ff",
   "metadata": {},
   "outputs": [],
   "source": [
    "v = np.array([2,1,4,3,5])"
   ]
  },
  {
   "cell_type": "code",
   "execution_count": 70,
   "id": "7db3aeb0-0ed9-47e7-a186-232b58dbffa7",
   "metadata": {},
   "outputs": [
    {
     "data": {
      "text/plain": [
       "array([2, 1, 4, 3, 5])"
      ]
     },
     "execution_count": 70,
     "metadata": {},
     "output_type": "execute_result"
    }
   ],
   "source": [
    "v"
   ]
  },
  {
   "cell_type": "code",
   "execution_count": 71,
   "id": "05aafb91-972a-4361-836f-ba5f6212a58a",
   "metadata": {},
   "outputs": [
    {
     "data": {
      "text/plain": [
       "array([1, 2, 3, 4, 5])"
      ]
     },
     "execution_count": 71,
     "metadata": {},
     "output_type": "execute_result"
    }
   ],
   "source": [
    "np.sort(v)"
   ]
  },
  {
   "cell_type": "code",
   "execution_count": 72,
   "id": "b2b886ec-4e57-4364-a127-1ca47e34c88b",
   "metadata": {},
   "outputs": [
    {
     "data": {
      "text/plain": [
       "array([2, 1, 4, 3, 5])"
      ]
     },
     "execution_count": 72,
     "metadata": {},
     "output_type": "execute_result"
    }
   ],
   "source": [
    "v"
   ]
  },
  {
   "cell_type": "code",
   "execution_count": 73,
   "id": "1b3e0e90-2127-4533-912e-7b08e81b4567",
   "metadata": {},
   "outputs": [],
   "source": [
    "v.sort()"
   ]
  },
  {
   "cell_type": "code",
   "execution_count": 74,
   "id": "1cd8aacd-d2bb-474d-951d-322eb6629608",
   "metadata": {},
   "outputs": [
    {
     "data": {
      "text/plain": [
       "array([1, 2, 3, 4, 5])"
      ]
     },
     "execution_count": 74,
     "metadata": {},
     "output_type": "execute_result"
    }
   ],
   "source": [
    "v"
   ]
  },
  {
   "cell_type": "code",
   "execution_count": 75,
   "id": "ae7ff71c-b9ac-4aec-ba13-7db496c93604",
   "metadata": {},
   "outputs": [],
   "source": [
    "#iki boyutlu array sıralama"
   ]
  },
  {
   "cell_type": "code",
   "execution_count": 81,
   "id": "8dbbf985-e5c6-4ad8-a091-e22292512414",
   "metadata": {},
   "outputs": [
    {
     "data": {
      "text/plain": [
       "array([[ 1.60965106, 12.55140632,  9.96908227],\n",
       "       [19.29964218, 16.32937483, 26.59687967],\n",
       "       [22.73278246, 13.72691452, 28.10275694]])"
      ]
     },
     "execution_count": 81,
     "metadata": {},
     "output_type": "execute_result"
    }
   ],
   "source": [
    " m = np.random.normal(20,5, (3,3))\n",
    "m"
   ]
  },
  {
   "cell_type": "code",
   "execution_count": 82,
   "id": "41fb4c48-4a0c-438f-a58c-5c7a2ca79cd1",
   "metadata": {},
   "outputs": [
    {
     "data": {
      "text/plain": [
       "array([[ 1.60965106,  9.96908227, 12.55140632],\n",
       "       [16.32937483, 19.29964218, 26.59687967],\n",
       "       [13.72691452, 22.73278246, 28.10275694]])"
      ]
     },
     "execution_count": 82,
     "metadata": {},
     "output_type": "execute_result"
    }
   ],
   "source": [
    "np.sort(m, axis =1)"
   ]
  },
  {
   "cell_type": "code",
   "execution_count": 83,
   "id": "a679e9f9-e5da-49ea-afe8-8b632bf31542",
   "metadata": {},
   "outputs": [
    {
     "data": {
      "text/plain": [
       "array([[ 1.60965106, 12.55140632,  9.96908227],\n",
       "       [19.29964218, 13.72691452, 26.59687967],\n",
       "       [22.73278246, 16.32937483, 28.10275694]])"
      ]
     },
     "execution_count": 83,
     "metadata": {},
     "output_type": "execute_result"
    }
   ],
   "source": [
    "np.sort(m, axis =0)"
   ]
  },
  {
   "cell_type": "code",
   "execution_count": 84,
   "id": "f54719a7-442c-47ba-bfc8-feff0356e095",
   "metadata": {},
   "outputs": [
    {
     "data": {
      "text/plain": [
       "array([7, 7, 5, 3, 3, 9, 0, 3, 8, 7])"
      ]
     },
     "execution_count": 84,
     "metadata": {},
     "output_type": "execute_result"
    }
   ],
   "source": [
    "a = np.random.randint(10, size =10)\n",
    "a"
   ]
  },
  {
   "cell_type": "code",
   "execution_count": 85,
   "id": "4edf21c7-24cb-416f-9689-88ca7799be96",
   "metadata": {},
   "outputs": [
    {
     "data": {
      "text/plain": [
       "7"
      ]
     },
     "execution_count": 85,
     "metadata": {},
     "output_type": "execute_result"
    }
   ],
   "source": [
    "a[0]"
   ]
  },
  {
   "cell_type": "code",
   "execution_count": 86,
   "id": "620482d0-c7e3-49bc-bb2e-9f40511280af",
   "metadata": {},
   "outputs": [],
   "source": [
    "a[0] = 100"
   ]
  },
  {
   "cell_type": "code",
   "execution_count": 87,
   "id": "3d3548e1-85d6-46a8-be65-0515bf83597d",
   "metadata": {},
   "outputs": [
    {
     "data": {
      "text/plain": [
       "array([100,   7,   5,   3,   3,   9,   0,   3,   8,   7])"
      ]
     },
     "execution_count": 87,
     "metadata": {},
     "output_type": "execute_result"
    }
   ],
   "source": [
    "a"
   ]
  },
  {
   "cell_type": "code",
   "execution_count": 88,
   "id": "a4ae5d10-fd59-46c8-bf99-8d1a9b41ee70",
   "metadata": {},
   "outputs": [
    {
     "data": {
      "text/plain": [
       "array([[2, 9, 1, 4, 5],\n",
       "       [5, 4, 1, 9, 4],\n",
       "       [5, 8, 4, 5, 8]])"
      ]
     },
     "execution_count": 88,
     "metadata": {},
     "output_type": "execute_result"
    }
   ],
   "source": [
    "m = np.random.randint(10,size = (3,5))\n",
    "m"
   ]
  },
  {
   "cell_type": "code",
   "execution_count": 89,
   "id": "0e27b866-d3a6-4e9a-ba4b-186a18438de2",
   "metadata": {},
   "outputs": [
    {
     "data": {
      "text/plain": [
       "2"
      ]
     },
     "execution_count": 89,
     "metadata": {},
     "output_type": "execute_result"
    }
   ],
   "source": [
    "m[0,0]"
   ]
  },
  {
   "cell_type": "code",
   "execution_count": 90,
   "id": "698168c0-9b50-4bfd-a7cc-a64f3f0faf08",
   "metadata": {},
   "outputs": [
    {
     "data": {
      "text/plain": [
       "4"
      ]
     },
     "execution_count": 90,
     "metadata": {},
     "output_type": "execute_result"
    }
   ],
   "source": [
    "m[1,1]"
   ]
  },
  {
   "cell_type": "code",
   "execution_count": 91,
   "id": "7d46fb60-51de-47fb-be3d-48fe95e76919",
   "metadata": {},
   "outputs": [
    {
     "data": {
      "text/plain": [
       "4"
      ]
     },
     "execution_count": 91,
     "metadata": {},
     "output_type": "execute_result"
    }
   ],
   "source": [
    "m[1,4]"
   ]
  },
  {
   "cell_type": "code",
   "execution_count": 92,
   "id": "2c1a670c-3f12-413c-86f4-d2e1048f5e24",
   "metadata": {},
   "outputs": [],
   "source": [
    "m[1,4] = 13"
   ]
  },
  {
   "cell_type": "code",
   "execution_count": 93,
   "id": "b922efc7-c791-4408-92ac-60a6ec2ddddc",
   "metadata": {},
   "outputs": [
    {
     "data": {
      "text/plain": [
       "array([[ 2,  9,  1,  4,  5],\n",
       "       [ 5,  4,  1,  9, 13],\n",
       "       [ 5,  8,  4,  5,  8]])"
      ]
     },
     "execution_count": 93,
     "metadata": {},
     "output_type": "execute_result"
    }
   ],
   "source": [
    "m"
   ]
  },
  {
   "cell_type": "code",
   "execution_count": 94,
   "id": "18d5542f-f2a4-47f9-b6b3-014ca8713d24",
   "metadata": {},
   "outputs": [],
   "source": [
    "m[1,4] = 2.2"
   ]
  },
  {
   "cell_type": "code",
   "execution_count": 95,
   "id": "e395b025-85c8-4c56-aa1f-be65f27d67c5",
   "metadata": {},
   "outputs": [
    {
     "data": {
      "text/plain": [
       "array([[2, 9, 1, 4, 5],\n",
       "       [5, 4, 1, 9, 2],\n",
       "       [5, 8, 4, 5, 8]])"
      ]
     },
     "execution_count": 95,
     "metadata": {},
     "output_type": "execute_result"
    }
   ],
   "source": [
    "m"
   ]
  },
  {
   "cell_type": "code",
   "execution_count": 96,
   "id": "25e5cf3e-7666-49f5-8e6e-bc013d1f8790",
   "metadata": {},
   "outputs": [
    {
     "data": {
      "text/plain": [
       "array([20, 21, 22, 23, 24, 25, 26, 27, 28, 29])"
      ]
     },
     "execution_count": 96,
     "metadata": {},
     "output_type": "execute_result"
    }
   ],
   "source": [
    "a = np.arange(20,30)\n",
    "a"
   ]
  },
  {
   "cell_type": "code",
   "execution_count": 97,
   "id": "6c357e0d-f467-40bb-8c4e-b4baf421b15e",
   "metadata": {},
   "outputs": [
    {
     "data": {
      "text/plain": [
       "array([20, 21, 22])"
      ]
     },
     "execution_count": 97,
     "metadata": {},
     "output_type": "execute_result"
    }
   ],
   "source": [
    "a[0:3]"
   ]
  },
  {
   "cell_type": "code",
   "execution_count": 98,
   "id": "a917a4f5-76cf-44f3-9a3e-e87cae989d16",
   "metadata": {},
   "outputs": [
    {
     "data": {
      "text/plain": [
       "array([21, 23, 25, 27, 29])"
      ]
     },
     "execution_count": 98,
     "metadata": {},
     "output_type": "execute_result"
    }
   ],
   "source": [
    "a[1::2]"
   ]
  },
  {
   "cell_type": "code",
   "execution_count": 99,
   "id": "6a1fe909-ad05-47f5-a287-6f3c1d51124b",
   "metadata": {},
   "outputs": [
    {
     "data": {
      "text/plain": [
       "array([20, 23, 26, 29])"
      ]
     },
     "execution_count": 99,
     "metadata": {},
     "output_type": "execute_result"
    }
   ],
   "source": [
    "a[0::3]"
   ]
  },
  {
   "cell_type": "code",
   "execution_count": 100,
   "id": "ca1640ab-e8cd-48cc-bbca-b2405d2b86c2",
   "metadata": {},
   "outputs": [],
   "source": [
    "#iki boyutlu slice işlemleri"
   ]
  },
  {
   "cell_type": "code",
   "execution_count": 101,
   "id": "35c23160-ce31-4777-9d1f-a3ceefd06585",
   "metadata": {},
   "outputs": [
    {
     "data": {
      "text/plain": [
       "array([[6, 5, 2, 4, 9],\n",
       "       [4, 3, 0, 5, 8],\n",
       "       [6, 2, 0, 5, 4],\n",
       "       [8, 9, 8, 1, 2],\n",
       "       [1, 0, 5, 7, 3]])"
      ]
     },
     "execution_count": 101,
     "metadata": {},
     "output_type": "execute_result"
    }
   ],
   "source": [
    "m = np.random.randint(10, size = (5,5))\n",
    "m"
   ]
  },
  {
   "cell_type": "code",
   "execution_count": 102,
   "id": "a73a325d-0084-43c0-92f8-d832df0f396c",
   "metadata": {},
   "outputs": [
    {
     "data": {
      "text/plain": [
       "array([6, 4, 6, 8, 1])"
      ]
     },
     "execution_count": 102,
     "metadata": {},
     "output_type": "execute_result"
    }
   ],
   "source": [
    "m[:,0]"
   ]
  },
  {
   "cell_type": "code",
   "execution_count": 103,
   "id": "c01f261d-90e4-40b3-b9b5-f2d5af609752",
   "metadata": {},
   "outputs": [
    {
     "data": {
      "text/plain": [
       "array([4, 5, 5, 1, 7])"
      ]
     },
     "execution_count": 103,
     "metadata": {},
     "output_type": "execute_result"
    }
   ],
   "source": [
    "m[:,3]"
   ]
  },
  {
   "cell_type": "code",
   "execution_count": 104,
   "id": "212670a3-801e-432b-b3ca-9293978c912b",
   "metadata": {},
   "outputs": [
    {
     "data": {
      "text/plain": [
       "array([6, 5, 2, 4, 9])"
      ]
     },
     "execution_count": 104,
     "metadata": {},
     "output_type": "execute_result"
    }
   ],
   "source": [
    "m[0,:]"
   ]
  },
  {
   "cell_type": "code",
   "execution_count": 105,
   "id": "d09e4686-0143-47c5-a171-9917cdda9fc6",
   "metadata": {},
   "outputs": [
    {
     "data": {
      "text/plain": [
       "array([6, 5, 2, 4, 9])"
      ]
     },
     "execution_count": 105,
     "metadata": {},
     "output_type": "execute_result"
    }
   ],
   "source": [
    "m[0]"
   ]
  },
  {
   "cell_type": "code",
   "execution_count": 106,
   "id": "6af4fc52-b5cd-4ebb-af47-ce893f6092f8",
   "metadata": {},
   "outputs": [
    {
     "data": {
      "text/plain": [
       "array([4, 3, 0, 5, 8])"
      ]
     },
     "execution_count": 106,
     "metadata": {},
     "output_type": "execute_result"
    }
   ],
   "source": [
    "m[1]"
   ]
  },
  {
   "cell_type": "code",
   "execution_count": 109,
   "id": "1e195bb4-0047-4295-a66b-ddbff93f85eb",
   "metadata": {},
   "outputs": [
    {
     "data": {
      "text/plain": [
       "array([[6, 5, 2],\n",
       "       [4, 3, 0]])"
      ]
     },
     "execution_count": 109,
     "metadata": {},
     "output_type": "execute_result"
    }
   ],
   "source": [
    "m[0:2, 0:3]"
   ]
  },
  {
   "cell_type": "code",
   "execution_count": 111,
   "id": "fdc720c5-922f-49a6-a632-1c1a42df7f7c",
   "metadata": {},
   "outputs": [
    {
     "data": {
      "text/plain": [
       "array([[6, 5],\n",
       "       [4, 3],\n",
       "       [6, 2],\n",
       "       [8, 9],\n",
       "       [1, 0]])"
      ]
     },
     "execution_count": 111,
     "metadata": {},
     "output_type": "execute_result"
    }
   ],
   "source": [
    "m[:,0:2]"
   ]
  },
  {
   "cell_type": "code",
   "execution_count": 112,
   "id": "82c1696f-abba-4977-9cf9-99676cdac39b",
   "metadata": {},
   "outputs": [
    {
     "data": {
      "text/plain": [
       "array([[4, 3],\n",
       "       [6, 2]])"
      ]
     },
     "execution_count": 112,
     "metadata": {},
     "output_type": "execute_result"
    }
   ],
   "source": [
    "m[1:3, 0:2]"
   ]
  },
  {
   "cell_type": "code",
   "execution_count": 113,
   "id": "02bd6cbe-ae80-4f0d-b842-e56fb6ef77bb",
   "metadata": {},
   "outputs": [
    {
     "data": {
      "text/plain": [
       "array([[6, 5, 2, 4, 9],\n",
       "       [4, 3, 0, 5, 8],\n",
       "       [6, 2, 0, 5, 4],\n",
       "       [8, 9, 8, 1, 2],\n",
       "       [1, 0, 5, 7, 3]])"
      ]
     },
     "execution_count": 113,
     "metadata": {},
     "output_type": "execute_result"
    }
   ],
   "source": [
    "m"
   ]
  },
  {
   "cell_type": "code",
   "execution_count": 114,
   "id": "dc3e5e95-0add-4b6a-9439-35c8844fb804",
   "metadata": {},
   "outputs": [],
   "source": [
    "a = np.random.randint(10, size = (5,5))"
   ]
  },
  {
   "cell_type": "code",
   "execution_count": 115,
   "id": "4243aa7d-cef4-49e9-b0e6-c5c20b4cac72",
   "metadata": {},
   "outputs": [
    {
     "data": {
      "text/plain": [
       "array([[0, 4, 5, 8, 1],\n",
       "       [6, 6, 8, 7, 3],\n",
       "       [1, 2, 6, 8, 7],\n",
       "       [4, 5, 5, 8, 1],\n",
       "       [2, 6, 9, 2, 3]])"
      ]
     },
     "execution_count": 115,
     "metadata": {},
     "output_type": "execute_result"
    }
   ],
   "source": [
    "a"
   ]
  },
  {
   "cell_type": "code",
   "execution_count": 116,
   "id": "c3387a81-6104-4aa9-bdee-796ef3586fac",
   "metadata": {},
   "outputs": [],
   "source": [
    "alt_a = a[0:3, 0:2]"
   ]
  },
  {
   "cell_type": "code",
   "execution_count": 117,
   "id": "eb6243fe-e0ea-423b-a020-42e344757e02",
   "metadata": {},
   "outputs": [
    {
     "data": {
      "text/plain": [
       "array([[0, 4],\n",
       "       [6, 6],\n",
       "       [1, 2]])"
      ]
     },
     "execution_count": 117,
     "metadata": {},
     "output_type": "execute_result"
    }
   ],
   "source": [
    "alt_a"
   ]
  },
  {
   "cell_type": "code",
   "execution_count": 118,
   "id": "7531e028-608d-42f0-b6a6-5315b892543b",
   "metadata": {},
   "outputs": [],
   "source": [
    "alt_a[0,0] = 9999\n",
    "alt_a[1,1] = 5555"
   ]
  },
  {
   "cell_type": "code",
   "execution_count": 119,
   "id": "70e55858-b3b1-4e95-8fcd-2c2687d8c9bd",
   "metadata": {},
   "outputs": [
    {
     "data": {
      "text/plain": [
       "array([[9999,    4],\n",
       "       [   6, 5555],\n",
       "       [   1,    2]])"
      ]
     },
     "execution_count": 119,
     "metadata": {},
     "output_type": "execute_result"
    }
   ],
   "source": [
    "alt_a"
   ]
  },
  {
   "cell_type": "code",
   "execution_count": 120,
   "id": "d1a9d0f6-7c27-4357-b1dd-5b45ba5ba3f2",
   "metadata": {},
   "outputs": [
    {
     "data": {
      "text/plain": [
       "array([[3, 1, 7, 9, 5],\n",
       "       [6, 4, 9, 1, 9],\n",
       "       [8, 8, 7, 9, 7],\n",
       "       [7, 6, 3, 1, 1],\n",
       "       [8, 0, 3, 9, 5]])"
      ]
     },
     "execution_count": 120,
     "metadata": {},
     "output_type": "execute_result"
    }
   ],
   "source": [
    "m = np.random.randint(10, size = (5,5))\n",
    "m"
   ]
  },
  {
   "cell_type": "code",
   "execution_count": 121,
   "id": "1bbc4967-c504-4bee-963d-83e1e032a0f5",
   "metadata": {},
   "outputs": [
    {
     "data": {
      "text/plain": [
       "array([[3, 1],\n",
       "       [6, 4],\n",
       "       [8, 8]])"
      ]
     },
     "execution_count": 121,
     "metadata": {},
     "output_type": "execute_result"
    }
   ],
   "source": [
    "alt_b = m[0:3, 0:2].copy()\n",
    "alt_b"
   ]
  },
  {
   "cell_type": "code",
   "execution_count": 122,
   "id": "7a1de71e-215b-4a67-80cc-fe4e621384ec",
   "metadata": {},
   "outputs": [
    {
     "data": {
      "text/plain": [
       "array([[9999,    1],\n",
       "       [   6,    4],\n",
       "       [   8,    8]])"
      ]
     },
     "execution_count": 122,
     "metadata": {},
     "output_type": "execute_result"
    }
   ],
   "source": [
    "alt_b[0,0] = 9999\n",
    "alt_b"
   ]
  },
  {
   "cell_type": "code",
   "execution_count": 123,
   "id": "0684f0a5-c8c9-4816-bea4-104b170dbd0a",
   "metadata": {},
   "outputs": [
    {
     "data": {
      "text/plain": [
       "array([[3, 1, 7, 9, 5],\n",
       "       [6, 4, 9, 1, 9],\n",
       "       [8, 8, 7, 9, 7],\n",
       "       [7, 6, 3, 1, 1],\n",
       "       [8, 0, 3, 9, 5]])"
      ]
     },
     "execution_count": 123,
     "metadata": {},
     "output_type": "execute_result"
    }
   ],
   "source": [
    "m"
   ]
  },
  {
   "cell_type": "code",
   "execution_count": 124,
   "id": "1f8cff1a-1670-4349-937d-c61abd1176d9",
   "metadata": {},
   "outputs": [],
   "source": [
    "#fancy index "
   ]
  },
  {
   "cell_type": "code",
   "execution_count": 125,
   "id": "fe1f472a-c9b9-4137-a3b0-a21073fac391",
   "metadata": {},
   "outputs": [
    {
     "data": {
      "text/plain": [
       "array([ 0,  3,  6,  9, 12, 15, 18, 21, 24, 27])"
      ]
     },
     "execution_count": 125,
     "metadata": {},
     "output_type": "execute_result"
    }
   ],
   "source": [
    "v = np.arange(0,30,3)\n",
    "v"
   ]
  },
  {
   "cell_type": "code",
   "execution_count": 126,
   "id": "954bea6c-d42b-4f13-8fef-3c4ec1a4284b",
   "metadata": {},
   "outputs": [
    {
     "data": {
      "text/plain": [
       "3"
      ]
     },
     "execution_count": 126,
     "metadata": {},
     "output_type": "execute_result"
    }
   ],
   "source": [
    "v[1]"
   ]
  },
  {
   "cell_type": "code",
   "execution_count": 127,
   "id": "0d05a517-f968-4330-8e77-6521101c84b5",
   "metadata": {},
   "outputs": [
    {
     "data": {
      "text/plain": [
       "[3, 9]"
      ]
     },
     "execution_count": 127,
     "metadata": {},
     "output_type": "execute_result"
    }
   ],
   "source": [
    "[v[1], v[3]]"
   ]
  },
  {
   "cell_type": "code",
   "execution_count": 128,
   "id": "c776b929-f211-42c1-8f61-863103fe5c63",
   "metadata": {},
   "outputs": [],
   "source": [
    "getir = [1,3,5,6]"
   ]
  },
  {
   "cell_type": "code",
   "execution_count": 129,
   "id": "f7e95e4f-3694-4d76-81da-6d283975567d",
   "metadata": {},
   "outputs": [
    {
     "data": {
      "text/plain": [
       "array([ 3,  9, 15, 18])"
      ]
     },
     "execution_count": 129,
     "metadata": {},
     "output_type": "execute_result"
    }
   ],
   "source": [
    "v[getir]"
   ]
  },
  {
   "cell_type": "code",
   "execution_count": 130,
   "id": "8999828f-6ba5-4558-92dc-747a72e1a4d3",
   "metadata": {},
   "outputs": [],
   "source": [
    "#yukarıdaki fancy index oluyor"
   ]
  },
  {
   "cell_type": "code",
   "execution_count": 131,
   "id": "fd3045e0-ac89-47a0-bb94-9a61cffba2f3",
   "metadata": {},
   "outputs": [],
   "source": [
    "#iki boyutta fancy index"
   ]
  },
  {
   "cell_type": "code",
   "execution_count": 132,
   "id": "aaa7813d-c461-4d5b-9df5-f57e4eadcdbd",
   "metadata": {},
   "outputs": [],
   "source": [
    "m = np.arange(9).reshape((3,3))"
   ]
  },
  {
   "cell_type": "code",
   "execution_count": 133,
   "id": "63f13442-aa8e-4db8-a0fd-6b077d808f22",
   "metadata": {},
   "outputs": [
    {
     "data": {
      "text/plain": [
       "array([[0, 1, 2],\n",
       "       [3, 4, 5],\n",
       "       [6, 7, 8]])"
      ]
     },
     "execution_count": 133,
     "metadata": {},
     "output_type": "execute_result"
    }
   ],
   "source": [
    "m"
   ]
  },
  {
   "cell_type": "code",
   "execution_count": 134,
   "id": "de91c761-1b5a-4b5b-8dca-cd7c78a27ec8",
   "metadata": {},
   "outputs": [],
   "source": [
    "satir = np.array([0,1])\n",
    "sutun = np.array([1,2])"
   ]
  },
  {
   "cell_type": "code",
   "execution_count": 135,
   "id": "09811073-110c-4e59-a3c9-7011a1abef72",
   "metadata": {},
   "outputs": [
    {
     "data": {
      "text/plain": [
       "array([1, 5])"
      ]
     },
     "execution_count": 135,
     "metadata": {},
     "output_type": "execute_result"
    }
   ],
   "source": [
    "m[satir, sutun]"
   ]
  },
  {
   "cell_type": "code",
   "execution_count": 136,
   "id": "a5cbf29e-53b5-4c1a-b1e7-a1917d4ed625",
   "metadata": {},
   "outputs": [
    {
     "data": {
      "text/plain": [
       "array([[0, 1, 2],\n",
       "       [3, 4, 5],\n",
       "       [6, 7, 8]])"
      ]
     },
     "execution_count": 136,
     "metadata": {},
     "output_type": "execute_result"
    }
   ],
   "source": [
    "m"
   ]
  },
  {
   "cell_type": "code",
   "execution_count": 137,
   "id": "283e65eb-5188-4574-a187-5ccc25214f2b",
   "metadata": {},
   "outputs": [
    {
     "data": {
      "text/plain": [
       "array([1, 2])"
      ]
     },
     "execution_count": 137,
     "metadata": {},
     "output_type": "execute_result"
    }
   ],
   "source": [
    "m[0, [1,2]]"
   ]
  },
  {
   "cell_type": "code",
   "execution_count": 141,
   "id": "38340d58-318b-4df0-9cd4-8ac56d988908",
   "metadata": {},
   "outputs": [],
   "source": [
    "#slice ile fancy"
   ]
  },
  {
   "cell_type": "code",
   "execution_count": 142,
   "id": "f257d8f5-827b-43e3-98d5-39f3f095bd1f",
   "metadata": {},
   "outputs": [
    {
     "data": {
      "text/plain": [
       "array([[1, 2],\n",
       "       [4, 5],\n",
       "       [7, 8]])"
      ]
     },
     "execution_count": 142,
     "metadata": {},
     "output_type": "execute_result"
    }
   ],
   "source": [
    "m[0:, [1,2]]"
   ]
  },
  {
   "cell_type": "code",
   "execution_count": 143,
   "id": "bfc15c5a-7bc1-493c-ab2d-3b931bd3583e",
   "metadata": {},
   "outputs": [],
   "source": [
    "#koşullu eleman işlemleri"
   ]
  },
  {
   "cell_type": "code",
   "execution_count": 144,
   "id": "0b0709b5-8a59-4ef6-adb0-943d1eb1b185",
   "metadata": {},
   "outputs": [],
   "source": [
    "v = np.array([1,2,3,4,5])"
   ]
  },
  {
   "cell_type": "code",
   "execution_count": 145,
   "id": "91a71948-b617-4b98-8aa9-efe72ed9b710",
   "metadata": {},
   "outputs": [
    {
     "data": {
      "text/plain": [
       "array([False, False, False, False, False])"
      ]
     },
     "execution_count": 145,
     "metadata": {},
     "output_type": "execute_result"
    }
   ],
   "source": [
    "v > 5"
   ]
  },
  {
   "cell_type": "code",
   "execution_count": 146,
   "id": "4dafa153-d355-48f8-9e08-d902b5ed6423",
   "metadata": {},
   "outputs": [
    {
     "data": {
      "text/plain": [
       "array([ True,  True, False, False, False])"
      ]
     },
     "execution_count": 146,
     "metadata": {},
     "output_type": "execute_result"
    }
   ],
   "source": [
    "v < 3"
   ]
  },
  {
   "cell_type": "code",
   "execution_count": 147,
   "id": "14f5223e-b06b-4283-a2b5-2b53a688d258",
   "metadata": {},
   "outputs": [
    {
     "data": {
      "text/plain": [
       "array([1, 2])"
      ]
     },
     "execution_count": 147,
     "metadata": {},
     "output_type": "execute_result"
    }
   ],
   "source": [
    "v[v<3]"
   ]
  },
  {
   "cell_type": "code",
   "execution_count": 148,
   "id": "093d9eaa-be0d-480d-84fd-ea2abc00de17",
   "metadata": {},
   "outputs": [
    {
     "data": {
      "text/plain": [
       "array([4, 5])"
      ]
     },
     "execution_count": 148,
     "metadata": {},
     "output_type": "execute_result"
    }
   ],
   "source": [
    "v [v>3]"
   ]
  },
  {
   "cell_type": "code",
   "execution_count": 150,
   "id": "e657b5db-ffe0-4306-96b4-d0f6c5812a7d",
   "metadata": {},
   "outputs": [
    {
     "data": {
      "text/plain": [
       "array([1, 2, 3, 4])"
      ]
     },
     "execution_count": 150,
     "metadata": {},
     "output_type": "execute_result"
    }
   ],
   "source": [
    "v[v<=4]"
   ]
  },
  {
   "cell_type": "code",
   "execution_count": 151,
   "id": "4698e997-7178-4d8f-bf23-6197f0870e44",
   "metadata": {},
   "outputs": [
    {
     "data": {
      "text/plain": [
       "array([1, 2, 3, 4, 5])"
      ]
     },
     "execution_count": 151,
     "metadata": {},
     "output_type": "execute_result"
    }
   ],
   "source": [
    "v"
   ]
  },
  {
   "cell_type": "code",
   "execution_count": 152,
   "id": "4bfeebdc-f8fa-4b9d-83e6-f0a0a98c7e90",
   "metadata": {},
   "outputs": [
    {
     "data": {
      "text/plain": [
       "array([ 2,  4,  6,  8, 10])"
      ]
     },
     "execution_count": 152,
     "metadata": {},
     "output_type": "execute_result"
    }
   ],
   "source": [
    "v*2"
   ]
  },
  {
   "cell_type": "code",
   "execution_count": 153,
   "id": "af54d6db-4abf-4dad-bad4-3bca24365a22",
   "metadata": {},
   "outputs": [
    {
     "data": {
      "text/plain": [
       "array([0.2, 0.4, 0.6, 0.8, 1. ])"
      ]
     },
     "execution_count": 153,
     "metadata": {},
     "output_type": "execute_result"
    }
   ],
   "source": [
    "v / 5"
   ]
  },
  {
   "cell_type": "code",
   "execution_count": 154,
   "id": "2ae7a593-597e-4a81-80d1-ae4bab1e0b75",
   "metadata": {},
   "outputs": [
    {
     "data": {
      "text/plain": [
       "array([-1.5, -1. , -0.5,  0. ,  0.5])"
      ]
     },
     "execution_count": 154,
     "metadata": {},
     "output_type": "execute_result"
    }
   ],
   "source": [
    "v*5/10-2"
   ]
  },
  {
   "cell_type": "code",
   "execution_count": 155,
   "id": "147b2a80-5877-491c-ab84-35b90b4c7d29",
   "metadata": {},
   "outputs": [
    {
     "data": {
      "text/plain": [
       "array([ 1,  4,  9, 16, 25], dtype=int32)"
      ]
     },
     "execution_count": 155,
     "metadata": {},
     "output_type": "execute_result"
    }
   ],
   "source": [
    "v**2"
   ]
  },
  {
   "cell_type": "code",
   "execution_count": 156,
   "id": "1a8caf49-83de-42b9-a8e9-d7e0c9885911",
   "metadata": {},
   "outputs": [
    {
     "data": {
      "text/plain": [
       "array([1, 2, 3, 4, 5])"
      ]
     },
     "execution_count": 156,
     "metadata": {},
     "output_type": "execute_result"
    }
   ],
   "source": [
    "v"
   ]
  },
  {
   "cell_type": "code",
   "execution_count": 157,
   "id": "d9341047-f569-4301-8f3e-1767e7046dd2",
   "metadata": {},
   "outputs": [
    {
     "data": {
      "text/plain": [
       "array([ 1,  4,  9, 16, 25], dtype=int32)"
      ]
     },
     "execution_count": 157,
     "metadata": {},
     "output_type": "execute_result"
    }
   ],
   "source": [
    "v**2"
   ]
  },
  {
   "cell_type": "code",
   "execution_count": 159,
   "id": "88a4561e-6e3a-49f4-9228-1c312fef5979",
   "metadata": {},
   "outputs": [
    {
     "data": {
      "text/plain": [
       "array([0, 1, 2, 3, 4])"
      ]
     },
     "execution_count": 159,
     "metadata": {},
     "output_type": "execute_result"
    }
   ],
   "source": [
    "np.subtract(v,1)"
   ]
  },
  {
   "cell_type": "code",
   "execution_count": 160,
   "id": "74743581-f7e3-411e-b2d7-7ab32d05ad3a",
   "metadata": {},
   "outputs": [
    {
     "data": {
      "text/plain": [
       "array([3, 4, 5, 6, 7])"
      ]
     },
     "execution_count": 160,
     "metadata": {},
     "output_type": "execute_result"
    }
   ],
   "source": [
    "np.add(v,2)"
   ]
  },
  {
   "cell_type": "code",
   "execution_count": 161,
   "id": "639dc317-1b82-4f19-8519-87f2c26d9690",
   "metadata": {},
   "outputs": [
    {
     "data": {
      "text/plain": [
       "array([      1,    1024,   59049, 1048576, 9765625], dtype=int32)"
      ]
     },
     "execution_count": 161,
     "metadata": {},
     "output_type": "execute_result"
    }
   ],
   "source": [
    "np.power(v, 10)"
   ]
  },
  {
   "cell_type": "code",
   "execution_count": 162,
   "id": "0af121cc-e8d1-4c90-9f82-0be74c5cb9c1",
   "metadata": {},
   "outputs": [
    {
     "data": {
      "text/plain": [
       "array([1, 0, 1, 0, 1], dtype=int32)"
      ]
     },
     "execution_count": 162,
     "metadata": {},
     "output_type": "execute_result"
    }
   ],
   "source": [
    "np.mod(v,2)"
   ]
  },
  {
   "cell_type": "code",
   "execution_count": 164,
   "id": "35756fcf-05ce-4a83-8d4c-e6cdfada0fad",
   "metadata": {},
   "outputs": [
    {
     "data": {
      "text/plain": [
       "array([5])"
      ]
     },
     "execution_count": 164,
     "metadata": {},
     "output_type": "execute_result"
    }
   ],
   "source": [
    "np.absolute(np.array([-5]))"
   ]
  },
  {
   "cell_type": "code",
   "execution_count": 165,
   "id": "5f3e2dc9-aec5-42f2-aa1a-bd3c1fe2e956",
   "metadata": {},
   "outputs": [
    {
     "data": {
      "text/plain": [
       "0.9589157234143065"
      ]
     },
     "execution_count": 165,
     "metadata": {},
     "output_type": "execute_result"
    }
   ],
   "source": [
    "np.sin(360)"
   ]
  },
  {
   "cell_type": "code",
   "execution_count": 166,
   "id": "5b2a7ddc-9c33-49c0-952a-45fd0c52bfda",
   "metadata": {},
   "outputs": [
    {
     "data": {
      "text/plain": [
       "-0.5984600690578581"
      ]
     },
     "execution_count": 166,
     "metadata": {},
     "output_type": "execute_result"
    }
   ],
   "source": [
    "np.cos(180)"
   ]
  },
  {
   "cell_type": "code",
   "execution_count": 167,
   "id": "cbd2a70f-1574-486c-b5dd-0b4dc05d94b1",
   "metadata": {},
   "outputs": [],
   "source": [
    "v = np.array([1,2,3])"
   ]
  },
  {
   "cell_type": "code",
   "execution_count": 168,
   "id": "c2718865-80cc-462a-a25c-1fc8e5ef9139",
   "metadata": {},
   "outputs": [
    {
     "data": {
      "text/plain": [
       "array([0.        , 0.69314718, 1.09861229])"
      ]
     },
     "execution_count": 168,
     "metadata": {},
     "output_type": "execute_result"
    }
   ],
   "source": [
    "np.log(v)"
   ]
  },
  {
   "cell_type": "code",
   "execution_count": 169,
   "id": "c11171fa-5249-44a6-a023-c86aa18593e7",
   "metadata": {},
   "outputs": [
    {
     "data": {
      "text/plain": [
       "array([0.        , 0.30103   , 0.47712125])"
      ]
     },
     "execution_count": 169,
     "metadata": {},
     "output_type": "execute_result"
    }
   ],
   "source": [
    "np.log10(v)"
   ]
  },
  {
   "cell_type": "code",
   "execution_count": 172,
   "id": "450386f7-c388-4725-b5ea-1f5345fdb9d7",
   "metadata": {},
   "outputs": [
    {
     "data": {
      "text/plain": [
       "1"
      ]
     },
     "execution_count": 172,
     "metadata": {},
     "output_type": "execute_result"
    }
   ],
   "source": [
    "v.min()"
   ]
  },
  {
   "cell_type": "code",
   "execution_count": null,
   "id": "27c22321-f781-4238-959b-5d19c26f6095",
   "metadata": {},
   "outputs": [],
   "source": []
  }
 ],
 "metadata": {
  "kernelspec": {
   "display_name": "Python 3 (ipykernel)",
   "language": "python",
   "name": "python3"
  },
  "language_info": {
   "codemirror_mode": {
    "name": "ipython",
    "version": 3
   },
   "file_extension": ".py",
   "mimetype": "text/x-python",
   "name": "python",
   "nbconvert_exporter": "python",
   "pygments_lexer": "ipython3",
   "version": "3.9.13"
  }
 },
 "nbformat": 4,
 "nbformat_minor": 5
}
